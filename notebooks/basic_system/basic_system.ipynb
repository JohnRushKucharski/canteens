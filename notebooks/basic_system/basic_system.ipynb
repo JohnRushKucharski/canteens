{
 "cells": [
  {
   "attachments": {},
   "cell_type": "markdown",
   "metadata": {},
   "source": [
    "# Basic System\n",
    "\n",
    "This shows how a basic system can be constructed, and a simulation can be run."
   ]
  },
  {
   "cell_type": "code",
   "execution_count": 1,
   "metadata": {},
   "outputs": [],
   "source": [
    "import sys \n",
    "sys.path.append('/Users/rdel1jrk/Documents/dev/caboodle')\n",
    "\n",
    "from model.data import REGISTRY\n",
    "from model.node import Inflow, Storage, Outlet\n",
    "from model.system import System"
   ]
  },
  {
   "attachments": {},
   "cell_type": "markdown",
   "metadata": {},
   "source": [
    "A system needs a log files location (1 log per node)."
   ]
  },
  {
   "cell_type": "code",
   "execution_count": 2,
   "metadata": {},
   "outputs": [],
   "source": [
    "log_directory_path = '/Users/rdel1jrk/Documents/dev/caboodle/notebooks/basic_system'"
   ]
  },
  {
   "attachments": {},
   "cell_type": "markdown",
   "metadata": {},
   "source": [
    "Here we create 3 nodes which is a \"minimal system\". Note it would also be possible (I think) to run a single reservoir, with no inflow our outlet node."
   ]
  },
  {
   "cell_type": "code",
   "execution_count": 3,
   "metadata": {},
   "outputs": [
    {
     "name": "stdout",
     "output_type": "stream",
     "text": [
      "<model.node.Inflow object at 0x105bc91d0> Storage(volume=0, name='storage', senders={<model.node.Inflow object at 0x105bc91d0>}, tag=<Tag.STORAGE: 'storage'>, reservoir=<model.reservoir.Reservoir object at 0x105bc8710>) Outlet(name='outlet', senders={Storage(volume=0, name='storage', senders={<model.node.Inflow object at 0x105bc91d0>}, tag=<Tag.STORAGE: 'storage'>, reservoir=<model.reservoir.Reservoir object at 0x105bc8710>)}, tag=<Tag.OUTLET: 'outlet'>)\n"
     ]
    }
   ],
   "source": [
    "inflow_node = Inflow(data=[0, 1, 1, 1, 2, 2, 1, 1, 1, 0, 0]) # default name='', starting_position=0\n",
    "storage_node = Storage(senders={inflow_node}) # creates default reservoir: (capacity=1, outlet: 1 @ top, operations: passive), initial storage = 0 ... etc.\n",
    "outlet_node = Outlet(senders={storage_node}) #default outlet \n",
    "print(inflow_node, storage_node, outlet_node)"
   ]
  },
  {
   "cell_type": "code",
   "execution_count": 4,
   "metadata": {},
   "outputs": [
    {
     "name": "stdout",
     "output_type": "stream",
     "text": [
      "{'inflow': Log(csv_path='', data=[0, 1, 1, 1, 2, 2, 1, 1, 1, 0], data_headers=('inflow',)), 'storage': Log(csv_path='', data=[(0, 0.0, 0.0, 0.0), (1, 0.0, 0.0, 1.0), (1, 1.0, 0.0, 1.0), (1, 1.0, 0.0, 1.0), (2, 2.0, 0.0, 1.0), (2, 2.0, 0.0, 1.0), (1, 1.0, 0.0, 1.0), (1, 1.0, 0.0, 1.0), (1, 1.0, 0.0, 1.0), (0, 0.0, 0.0, 1.0)], data_headers=('inflow', ('outlet@1', <OutputTag.OUTLFLOW: 'outflow'>), ('spilled', <OutputTag.SPILLED: 'spilled'>), ('storage', <OutputTag.STORAGE: 'storage'>))), 'outlet': Log(csv_path='', data=[0.0, 0.0, 1.0, 1.0, 2.0, 2.0, 1.0, 1.0, 1.0, 0.0], data_headers=('outlet',))}\n"
     ]
    }
   ],
   "source": [
    "basic_system = System(nodes=[inflow_node, storage_node, outlet_node], log_directory=log_directory_path)\n",
    "basic_system.simulate(10)\n",
    "print(REGISTRY)"
   ]
  }
 ],
 "metadata": {
  "kernelspec": {
   "display_name": "caboodle",
   "language": "python",
   "name": "python3"
  },
  "language_info": {
   "codemirror_mode": {
    "name": "ipython",
    "version": 3
   },
   "file_extension": ".py",
   "mimetype": "text/x-python",
   "name": "python",
   "nbconvert_exporter": "python",
   "pygments_lexer": "ipython3",
   "version": "3.11.4"
  },
  "orig_nbformat": 4
 },
 "nbformat": 4,
 "nbformat_minor": 2
}
